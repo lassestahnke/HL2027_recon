{
 "cells": [
  {
   "cell_type": "code",
   "execution_count": 5,
   "id": "0f86b076",
   "metadata": {},
   "outputs": [],
   "source": [
    "import SimpleITK as sitk\n",
    "import numpy as np\n",
    "sitk_t1 = sitk.ReadImage('t1.nii.gz') \n",
    "t1 = sitk.GetArrayFromImage(sitk_t1)"
   ]
  },
  {
   "cell_type": "code",
   "execution_count": 12,
   "id": "4f4b7e36",
   "metadata": {},
   "outputs": [],
   "source": [
    "import sigpy\n",
    "\n",
    "# CPU convolve\n",
    "x = np.array([1, 2, 3, 4, 5])\n",
    "y = np.array([1, 1, 1])\n",
    "z = sigpy.convolve(x, y)"
   ]
  },
  {
   "cell_type": "code",
   "execution_count": 14,
   "id": "f18019e0",
   "metadata": {},
   "outputs": [
    {
     "ename": "AttributeError",
     "evalue": "module 'sigpy' has no attribute 'mri'",
     "output_type": "error",
     "traceback": [
      "\u001b[0;31m---------------------------------------------------------------------------\u001b[0m",
      "\u001b[0;31mAttributeError\u001b[0m                            Traceback (most recent call last)",
      "Input \u001b[0;32mIn [14]\u001b[0m, in \u001b[0;36m<cell line: 3>\u001b[0;34m()\u001b[0m\n\u001b[1;32m      1\u001b[0m \u001b[38;5;66;03m# 1. Simulation of radial sampling: (15%)\u001b[39;00m\n\u001b[1;32m      2\u001b[0m spikes \u001b[38;5;241m=\u001b[39m \u001b[38;5;241m40\u001b[39m\n\u001b[0;32m----> 3\u001b[0m coord \u001b[38;5;241m=\u001b[39m \u001b[43msigpy\u001b[49m\u001b[38;5;241;43m.\u001b[39;49m\u001b[43mmri\u001b[49m\u001b[38;5;241m.\u001b[39mradial([spikes,\u001b[38;5;241m256\u001b[39m,\u001b[38;5;241m2\u001b[39m],[\u001b[38;5;241m256\u001b[39m,\u001b[38;5;241m256\u001b[39m])\n",
      "\u001b[0;31mAttributeError\u001b[0m: module 'sigpy' has no attribute 'mri'"
     ]
    }
   ],
   "source": [
    "# 1. Simulation of radial sampling: (15%)\n",
    "spikes = 40\n",
    "coord = sigpy.mri.radial([spikes,256,2],[256,256])\n"
   ]
  },
  {
   "cell_type": "code",
   "execution_count": null,
   "id": "f2a2e375",
   "metadata": {},
   "outputs": [],
   "source": []
  },
  {
   "cell_type": "code",
   "execution_count": null,
   "id": "b8da8b0e",
   "metadata": {},
   "outputs": [],
   "source": []
  }
 ],
 "metadata": {
  "kernelspec": {
   "display_name": "Python 3 (ipykernel)",
   "language": "python",
   "name": "python3"
  },
  "language_info": {
   "codemirror_mode": {
    "name": "ipython",
    "version": 3
   },
   "file_extension": ".py",
   "mimetype": "text/x-python",
   "name": "python",
   "nbconvert_exporter": "python",
   "pygments_lexer": "ipython3",
   "version": "3.8.12"
  }
 },
 "nbformat": 4,
 "nbformat_minor": 5
}
